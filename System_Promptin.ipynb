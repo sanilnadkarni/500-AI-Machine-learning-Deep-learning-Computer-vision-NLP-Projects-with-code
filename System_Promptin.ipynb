{
  "nbformat": 4,
  "nbformat_minor": 0,
  "metadata": {
    "colab": {
      "provenance": [],
      "authorship_tag": "ABX9TyOAOSPaoo77xJmwUn3h4qaE",
      "include_colab_link": true
    },
    "kernelspec": {
      "name": "python3",
      "display_name": "Python 3"
    },
    "language_info": {
      "name": "python"
    }
  },
  "cells": [
    {
      "cell_type": "markdown",
      "metadata": {
        "id": "view-in-github",
        "colab_type": "text"
      },
      "source": [
        "<a href=\"https://colab.research.google.com/github/sanilnadkarni/500-AI-Machine-learning-Deep-learning-Computer-vision-NLP-Projects-with-code/blob/main/System_Promptin.ipynb\" target=\"_parent\"><img src=\"https://colab.research.google.com/assets/colab-badge.svg\" alt=\"Open In Colab\"/></a>"
      ]
    },
    {
      "cell_type": "markdown",
      "source": [
        "!pip install --quiet openai>=1.40.0\n",
        "\n",
        "import os, json, time\n",
        "from openai import OpenAI\n"
      ],
      "metadata": {
        "id": "4fwgauSUd2B2"
      }
    },
    {
      "cell_type": "code",
      "source": [
        "from google.colab import userdata\n",
        "from openai import OpenAI\n",
        "\n",
        "# Retrieve your secret key (make sure you have saved it in Colab as 'OPENAI_API_KEY')\n",
        "api_key = userdata.get('OPENAI_API_KEY')\n",
        "\n",
        "if api_key:\n",
        "    print(\"✅ OpenAI API key loaded securely from Colab userdata.\")\n",
        "    client = OpenAI(api_key=api_key)\n",
        "else:\n",
        "    raise ValueError(\"❌ Could not find 'OPENAI_API_KEY' in Colab userdata. Please set it first.\")\n"
      ],
      "metadata": {
        "colab": {
          "base_uri": "https://localhost:8080/"
        },
        "id": "Xc9a_KN4d8D6",
        "outputId": "282e09de-e296-4405-aff4-e13250a6a537"
      },
      "execution_count": 1,
      "outputs": [
        {
          "output_type": "stream",
          "name": "stdout",
          "text": [
            "✅ OpenAI API key loaded securely from Colab userdata.\n"
          ]
        }
      ]
    },
    {
      "cell_type": "code",
      "source": [
        "import json # Import the json module here\n",
        "\n",
        "examples = [\n",
        "  {\n",
        "    \"messages\": [\n",
        "      {\"role\": \"system\", \"content\": \"You are a helpful customer support agent for AcmeCo. Be concise and friendly.\"},\n",
        "      {\"role\": \"user\", \"content\": \"My order is late\"},\n",
        "      {\"role\": \"assistant\", \"content\": \"I’m sorry to hear that. Please share your order ID and I’ll check the status right away.\"}\n",
        "    ]\n",
        "  },\n",
        "  {\n",
        "    \"messages\": [\n",
        "      {\"role\": \"system\", \"content\": \"You are a helpful customer support agent for AcmeCo. Be concise and friendly.\"},\n",
        "      {\"role\": \"user\", \"content\": \"Refund policy\"},\n",
        "      {\"role\": \"assistant\", \"content\": \"You can return items within 30 days with proof of purchase. Would you like me to start a return?\"}\n",
        "    ]\n",
        "  },\n",
        "  {\n",
        "    \"messages\": [\n",
        "      {\"role\": \"system\", \"content\": \"You are a helpful customer support agent for AcmeCo. Be concise and friendly.\"},\n",
        "      {\"role\": \"user\", \"content\": \"How do I change my shipping address?\"},\n",
        "      {\"role\": \"assistant\", \"content\": \"Go to Account → Addresses → Edit, or tell me the new address and I’ll update it for your current order.\"}\n",
        "    ]\n",
        "  },\n",
        "    {\n",
        "    \"messages\": [\n",
        "      {\"role\": \"system\", \"content\": \"You are a helpful customer support agent for AcmeCo. Be concise and friendly.\"},\n",
        "      {\"role\": \"user\", \"content\": \"My product is broken\"},\n",
        "      {\"role\": \"assistant\", \"content\": \"I'm sorry to hear that. Please provide details about the damage and your order ID so I can assist you with a replacement or return.\"}\n",
        "    ]\n",
        "  },\n",
        "  {\n",
        "    \"messages\": [\n",
        "      {\"role\": \"system\", \"content\": \"You are a helpful customer support agent for AcmeCo. Be concise and friendly.\"},\n",
        "      {\"role to\": \"user\", \"content\": \"How can I track my order?\"},\n",
        "      {\"role\": \"assistant\", \"content\": \"You can track your order using the tracking number provided in your shipping confirmation email. If you need help finding it, please provide your order ID.\"}\n",
        "    ]\n",
        "  },\n",
        "  {\n",
        "    \"messages\": [\n",
        "      {\"role\": \"system\", \"content\": \"You are a helpful customer support agent for AcmeCo. Be concise and friendly.\"},\n",
        "      {\"role\": \"user\", \"content\": \"What are the shipping options?\"},\n",
        "      {\"role\": \"assistant\", \"content\": \"We offer standard, expedited, and express shipping options. The cost and delivery time depend on your location and chosen method.\"}\n",
        "    ]\n",
        "  },\n",
        "  {\n",
        "    \"messages\": [\n",
        "      {\"role\": \"system\", \"content\": \"You are a helpful customer support agent for AcmeCo. Be concise and friendly.\"},\n",
        "      {\"role\": \"user\", \"content\": \"Can I cancel my order?\"},\n",
        "      {\"role\": \"assistant\", \"content\": \"Orders can be cancelled within 24 hours of placement, provided they haven't shipped yet. Please provide your order ID to check if cancellation is possible.\"}\n",
        "    ]\n",
        "  },\n",
        "  {\n",
        "    \"messages\": [\n",
        "      {\"role\": \"system\", \"content\": \"You are a helpful customer support agent for AcmeCo. Be concise and friendly.\"},\n",
        "      {\"role\": \"user\", \"content\": \"Do you ship internationally?\"},\n",
        "      {\"role\": \"assistant\", \"content\": \"Yes, we offer international shipping to many countries. Please enter your address during checkout to see if we ship to your location and to view shipping costs.\"}\n",
        "    ]\n",
        "  },\n",
        "  {\n",
        "    \"messages\": [\n",
        "      {\"role\": \"system\", \"content\": \"You are a helpful customer support agent for AcmeCo. Be concise and friendly.\"},\n",
        "      {\"role\": \"user\", \"content\": \"How do I apply a discount code?\"},\n",
        "      {\"role\": \"assistant\", \"content\": \"You can apply a discount code during the checkout process. There will be a field to enter the code before you finalize your purchase.\"}\n",
        "    ]\n",
        "  },\n",
        "  {\n",
        "    \"messages\": [\n",
        "      {\"role\": \"system\", \"content\": \"You are a helpful customer support agent for AcmeCo. Be concise and friendly.\"},\n",
        "      {\"role\": \"user\", \"content\": \"What payment methods do you accept?\"},\n",
        "      {\"role\": \"assistant\", \"content\": \"We accept major credit cards (Visa, Mastercard, American Express), PayPal, and other local payment methods depending on your region.\"}\n",
        "    ]\n",
        "  },\n",
        "  {\n",
        "    \"messages\": [\n",
        "      {\"role\": \"system\", \"content\": \"You are a helpful customer support agent for AcmeCo. Be concise and friendly.\"},\n",
        "      {\"role\": \"user\", \"content\": \"My account is locked\"},\n",
        "      {\"role\": \"assistant\", \"content\": \"I'm sorry to hear that your account is locked. Please provide your email address or username associated with the account and I can help you unlock it or reset your password.\"}\n",
        "    ]\n",
        "  }\n",
        "]\n",
        "\n",
        "with open(\"data.jsonl\", \"w\") as f:\n",
        "    for row in examples:\n",
        "        f.write(json.dumps(row, ensure_ascii=False) + \"\\n\")\n",
        "\n",
        "!wc -l data.jsonl && head -n 2 data.jsonl"
      ],
      "metadata": {
        "colab": {
          "base_uri": "https://localhost:8080/"
        },
        "id": "Kqmj_ABWe4DJ",
        "outputId": "1859b501-e5a9-46c9-dcc9-417d964b7fea"
      },
      "execution_count": 2,
      "outputs": [
        {
          "output_type": "stream",
          "name": "stdout",
          "text": [
            "11 data.jsonl\n",
            "{\"messages\": [{\"role\": \"system\", \"content\": \"You are a helpful customer support agent for AcmeCo. Be concise and friendly.\"}, {\"role\": \"user\", \"content\": \"My order is late\"}, {\"role\": \"assistant\", \"content\": \"I’m sorry to hear that. Please share your order ID and I’ll check the status right away.\"}]}\n",
            "{\"messages\": [{\"role\": \"system\", \"content\": \"You are a helpful customer support agent for AcmeCo. Be concise and friendly.\"}, {\"role\": \"user\", \"content\": \"Refund policy\"}, {\"role\": \"assistant\", \"content\": \"You can return items within 30 days with proof of purchase. Would you like me to start a return?\"}]}\n"
          ]
        }
      ]
    },
    {
      "cell_type": "code",
      "source": [
        "upload = client.files.create(\n",
        "    file=open(\"data.jsonl\", \"rb\"),\n",
        "    purpose=\"fine-tune\"\n",
        ")\n",
        "\n",
        "training_file_id = upload.id\n",
        "print(\"Training file id:\", training_file_id)\n"
      ],
      "metadata": {
        "colab": {
          "base_uri": "https://localhost:8080/"
        },
        "id": "4poiXpMdfTQi",
        "outputId": "57dd5e3b-cac5-4558-c333-1ec94e0767a3"
      },
      "execution_count": 3,
      "outputs": [
        {
          "output_type": "stream",
          "name": "stdout",
          "text": [
            "Training file id: file-3mMoKHx2oCANTCEefBFp29\n"
          ]
        }
      ]
    },
    {
      "cell_type": "code",
      "source": [
        "job = client.fine_tuning.jobs.create(\n",
        "    training_file=training_file_id,\n",
        "    model=\"gpt-3.5-turbo\"\n",
        ")\n",
        "\n",
        "job_id = job.id\n",
        "print(\"Fine-tune job id:\", job_id, \"| status:\", job.status)"
      ],
      "metadata": {
        "colab": {
          "base_uri": "https://localhost:8080/"
        },
        "id": "9o8X60StfZuj",
        "outputId": "9630ffbc-9a15-4a27-ac09-a803ad2aec4a"
      },
      "execution_count": 4,
      "outputs": [
        {
          "output_type": "stream",
          "name": "stdout",
          "text": [
            "Fine-tune job id: ftjob-I1yB2K2LxwZsgejnTl2mLI5L | status: validating_files\n"
          ]
        }
      ]
    },
    {
      "cell_type": "code",
      "source": [
        "import time\n",
        "\n",
        "def poll(job_id, interval=10):\n",
        "    while True:\n",
        "        j = client.fine_tuning.jobs.retrieve(job_id)\n",
        "        print(f\"[{time.strftime('%H:%M:%S')}] status={j.status}\")\n",
        "        if j.status in (\"succeeded\", \"failed\", \"cancelled\"):\n",
        "            return j\n",
        "        time.sleep(interval)\n",
        "\n",
        "final = poll(job_id, interval=10)\n",
        "print(\"Final status:\", final.status)\n",
        "print(\"Fine-tuned model:\", final.fine_tuned_model)"
      ],
      "metadata": {
        "colab": {
          "base_uri": "https://localhost:8080/"
        },
        "id": "lNzYunrrfnaj",
        "outputId": "c3fa32d8-1840-4c90-d440-937476078182"
      },
      "execution_count": 5,
      "outputs": [
        {
          "output_type": "stream",
          "name": "stdout",
          "text": [
            "[01:31:06] status=validating_files\n",
            "[01:31:16] status=validating_files\n",
            "[01:31:26] status=validating_files\n",
            "[01:31:37] status=running\n",
            "[01:31:47] status=failed\n",
            "Final status: failed\n",
            "Fine-tuned model: None\n"
          ]
        }
      ]
    },
    {
      "cell_type": "code",
      "metadata": {
        "colab": {
          "base_uri": "https://localhost:8080/"
        },
        "id": "e10a14f0",
        "outputId": "b6a8b04d-14b8-4f5f-d326-cd095d91d86c"
      },
      "source": [
        "events = client.fine_tuning.jobs.list_events(fine_tuning_job_id=job_id, limit=50)\n",
        "\n",
        "print(\"Fine-tuning job events:\")\n",
        "for event in events.data:\n",
        "    print(f\"- {event.created_at} - {event.message}\")"
      ],
      "execution_count": null,
      "outputs": [
        {
          "output_type": "stream",
          "name": "stdout",
          "text": [
            "Fine-tuning job events:\n",
            "- 1756264074 - Training file has 3 example(s), but must have at least 10 examples\n",
            "- 1756264025 - Validating training file: file-6JMj8MAQuMj5izuXJXyjYy\n",
            "- 1756264025 - Created fine-tuning job: ftjob-7PHT0i0JPcNOwC1T1DTEIfQs\n"
          ]
        }
      ]
    },
    {
      "cell_type": "code",
      "source": [],
      "metadata": {
        "id": "nmu43IQ3gMAb"
      },
      "execution_count": null,
      "outputs": []
    },
    {
      "cell_type": "code",
      "metadata": {
        "colab": {
          "base_uri": "https://localhost:8080/"
        },
        "id": "c6e8e543",
        "outputId": "0cb8e1a7-1b6d-4b4d-abc4-0186e9299768"
      },
      "source": [
        "# Rerun the cell to create the updated data.jsonl file\n",
        "# cell_id: Kqmj_ABWe4DJ - This cell was already run by the user after the previous modification.\n",
        "# I will proceed with the next steps.\n",
        "\n",
        "# Upload the new data.jsonl file to OpenAI\n",
        "upload = client.files.create(\n",
        "    file=open(\"data.jsonl\", \"rb\"),\n",
        "    purpose=\"fine-tune\"\n",
        ")\n",
        "\n",
        "training_file_id = upload.id\n",
        "print(\"Training file id:\", training_file_id)"
      ],
      "execution_count": null,
      "outputs": [
        {
          "output_type": "stream",
          "name": "stdout",
          "text": [
            "Training file id: file-TPNmT5ZBwdywSkSM7TqtrQ\n"
          ]
        }
      ]
    },
    {
      "cell_type": "code",
      "metadata": {
        "colab": {
          "base_uri": "https://localhost:8080/"
        },
        "id": "7ad59079",
        "outputId": "f390e940-76c3-4a86-f854-7d4a971f0269"
      },
      "source": [
        "# Create a new fine-tuning job with the updated training file\n",
        "job = client.fine_tuning.jobs.create(\n",
        "    training_file=training_file_id,\n",
        "    model=\"gpt-3.5-turbo\"\n",
        ")\n",
        "\n",
        "job_id = job.id\n",
        "print(\"Fine-tune job id:\", job_id, \"| status:\", job.status)"
      ],
      "execution_count": null,
      "outputs": [
        {
          "output_type": "stream",
          "name": "stdout",
          "text": [
            "Fine-tune job id: ftjob-FI3V75CMVI6eSbSlDVvyPYBU | status: validating_files\n"
          ]
        }
      ]
    },
    {
      "cell_type": "code",
      "metadata": {
        "colab": {
          "base_uri": "https://localhost:8080/"
        },
        "id": "43e5d14f",
        "outputId": "7a78512f-b4c0-4500-af88-066069d522e7"
      },
      "source": [
        "# Poll the job status until it completes\n",
        "import time\n",
        "\n",
        "def poll(job_id, interval=10):\n",
        "    while True:\n",
        "        j = client.fine_tuning.jobs.retrieve(job_id)\n",
        "        print(f\"[{time.strftime('%H:%M:%S')}] status={j.status}\")\n",
        "        if j.status in (\"succeeded\", \"failed\", \"cancelled\"):\n",
        "            return j\n",
        "        time.sleep(interval)\n",
        "\n",
        "final = poll(job_id, interval=10)\n",
        "print(\"Final status:\", final.status)\n",
        "print(\"Fine-tuned model:\", final.fine_tuned_model)"
      ],
      "execution_count": 6,
      "outputs": [
        {
          "output_type": "stream",
          "name": "stdout",
          "text": [
            "[01:32:23] status=failed\n",
            "Final status: failed\n",
            "Fine-tuned model: None\n"
          ]
        }
      ]
    },
    {
      "cell_type": "code",
      "source": [
        "ft_model = final.fine_tuned_model\n",
        "if not ft_model:\n",
        "    raise RuntimeError(\"Fine-tune did not produce a model. Check logs/events above.\")\n",
        "\n",
        "resp = client.chat.completions.create(\n",
        "    model=ft_model,\n",
        "    messages=[\n",
        "        {\"role\": \"user\", \"content\": \"I want a refund for a damaged item.\"}\n",
        "    ]\n",
        ")\n",
        "\n",
        "print(\"FT Response:\\n\", resp.choices[0].message.content)\n"
      ],
      "metadata": {
        "colab": {
          "base_uri": "https://localhost:8080/",
          "height": 216
        },
        "id": "ljI0gmkDuNWQ",
        "outputId": "dd767089-56b9-4186-a211-9caaf01c95f5"
      },
      "execution_count": null,
      "outputs": [
        {
          "output_type": "error",
          "ename": "RuntimeError",
          "evalue": "Fine-tune did not produce a model. Check logs/events above.",
          "traceback": [
            "\u001b[0;31m---------------------------------------------------------------------------\u001b[0m",
            "\u001b[0;31mRuntimeError\u001b[0m                              Traceback (most recent call last)",
            "\u001b[0;32m/tmp/ipython-input-1664385811.py\u001b[0m in \u001b[0;36m<cell line: 0>\u001b[0;34m()\u001b[0m\n\u001b[1;32m      1\u001b[0m \u001b[0mft_model\u001b[0m \u001b[0;34m=\u001b[0m \u001b[0mfinal\u001b[0m\u001b[0;34m.\u001b[0m\u001b[0mfine_tuned_model\u001b[0m\u001b[0;34m\u001b[0m\u001b[0;34m\u001b[0m\u001b[0m\n\u001b[1;32m      2\u001b[0m \u001b[0;32mif\u001b[0m \u001b[0;32mnot\u001b[0m \u001b[0mft_model\u001b[0m\u001b[0;34m:\u001b[0m\u001b[0;34m\u001b[0m\u001b[0;34m\u001b[0m\u001b[0m\n\u001b[0;32m----> 3\u001b[0;31m     \u001b[0;32mraise\u001b[0m \u001b[0mRuntimeError\u001b[0m\u001b[0;34m(\u001b[0m\u001b[0;34m\"Fine-tune did not produce a model. Check logs/events above.\"\u001b[0m\u001b[0;34m)\u001b[0m\u001b[0;34m\u001b[0m\u001b[0;34m\u001b[0m\u001b[0m\n\u001b[0m\u001b[1;32m      4\u001b[0m \u001b[0;34m\u001b[0m\u001b[0m\n\u001b[1;32m      5\u001b[0m resp = client.chat.completions.create(\n",
            "\u001b[0;31mRuntimeError\u001b[0m: Fine-tune did not produce a model. Check logs/events above."
          ]
        }
      ]
    }
  ]
}